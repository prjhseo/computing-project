{
 "cells": [
  {
   "cell_type": "markdown",
   "id": "6339f213-46b4-461a-a611-e62a2328b8ea",
   "metadata": {},
   "source": [
    "# 실습과제3\n",
    ">1. 두개의 자연수를 입력받아 나눗셈하기\n",
    ">2. 입력 오류, 계산 오류에 대한 예외처리 구현하기"
   ]
  },
  {
   "cell_type": "markdown",
   "id": "e1bea455-003b-4bbf-a9c5-ddcbeaef59dd",
   "metadata": {},
   "source": [
    "## 설명"
   ]
  },
  {
   "cell_type": "markdown",
   "id": "0b4fdf40-782a-4269-ac09-4a3e6d70a35d",
   "metadata": {},
   "source": [
    "먼저 두개의 자연수를 입력받아야 한다."
   ]
  },
  {
   "cell_type": "markdown",
   "id": "3205cade-be00-443f-998a-fbe3cdbaaf6d",
   "metadata": {},
   "source": [
    "```python\n",
    "a,b=map(int,input(\"숫자 두개를 입력하세요: \").split())\n",
    "```"
   ]
  },
  {
   "cell_type": "markdown",
   "id": "b7a9c968-822e-4c2b-b51e-8d9e02803cb7",
   "metadata": {},
   "source": [
    "그리고 c라는 변수에 나눗셈의 결과를 아래와 같이 대입한다."
   ]
  },
  {
   "cell_type": "markdown",
   "id": "566f9da8-2bfc-45b8-8ca4-1cdc8f91f591",
   "metadata": {},
   "source": [
    "```python\n",
    "c=a/b \n",
    "```"
   ]
  },
  {
   "cell_type": "markdown",
   "id": "3f0e862f-798a-4c32-aba1-93c69e4846aa",
   "metadata": {},
   "source": [
    "### 그러나, a가 abc처럼 숫자가 아닌 경우\n",
    "`a,b=map(int,input(\"숫자 두개를 입력하세요: \").split())` 에서  \n",
    "abc를 int로 변환하지 못해  \n",
    "**ValueError: invalid literal for int() with base 10: 'abc'**  \n",
    "가 발생할 수 있다. "
   ]
  },
  {
   "cell_type": "markdown",
   "id": "9fcdd174-1668-4408-88fd-06f27853473c",
   "metadata": {},
   "source": [
    "### 또한, b가 0인 경우\n",
    "\n",
    "`c=a/b`에서  \n",
    "**ZeroDivisionError: division by zero**  \n",
    "가 발생할 수 있다."
   ]
  },
  {
   "cell_type": "markdown",
   "id": "eaf36bf3-720f-47b4-8dca-8153d0c39219",
   "metadata": {},
   "source": [
    "### 따라서, 위 두 코드에 대한 예외처리를 해주어야 한다."
   ]
  },
  {
   "cell_type": "markdown",
   "id": "3de5fc82-e9d4-4b3f-ab93-5607f3366793",
   "metadata": {},
   "source": [
    "아래와 같이 try로 위 코드 두 줄을 묶고,  \n",
    "```python\n",
    "try:\n",
    "  a,b=map(int,input(\"숫자 두개를 입력하세요: \").split())\n",
    "  c=a/b\n",
    "```"
   ]
  },
  {
   "cell_type": "markdown",
   "id": "0819687e-d87d-4d1c-8ede-10711ddbb96e",
   "metadata": {},
   "source": [
    "예외가 발생했을 경우, except 블록에 숫자를 다시 확인하라는 메세지를 출력한다. \n",
    "```python\n",
    "except:\n",
    "  print(\"입력한 숫자를 확인해주세요\")\n",
    "```"
   ]
  },
  {
   "cell_type": "markdown",
   "id": "3749f296-7f3b-402b-a764-57b090f5ac82",
   "metadata": {},
   "source": [
    "예외가 발생하지 않았을 경우에는, 나눗셈의 결과를 출력한다\n",
    "```python\n",
    "else:\n",
    "    print(f\"{a} / {b} = {c}\")\n",
    "```"
   ]
  },
  {
   "cell_type": "markdown",
   "id": "565d4aff-5afb-4eac-bb58-20571cdfa9c3",
   "metadata": {},
   "source": [
    "그리고 계산을 마쳤다면, 계산을 마쳤다는 메세지를 출력한다.\n",
    "```python\n",
    "finally:\n",
    "  print(\"calculation completed\")\n",
    "```"
   ]
  },
  {
   "cell_type": "markdown",
   "id": "71d30366-ec71-45b4-a3fb-1c9d962b14ca",
   "metadata": {},
   "source": [
    "## 코드"
   ]
  },
  {
   "cell_type": "code",
   "execution_count": 1,
   "id": "a4523730-2627-4e84-ba13-e37647ecab52",
   "metadata": {},
   "outputs": [
    {
     "name": "stdin",
     "output_type": "stream",
     "text": [
      "숫자 두개를 입력하세요:  12 4\n"
     ]
    },
    {
     "name": "stdout",
     "output_type": "stream",
     "text": [
      "12 / 4 = 3.0\n",
      "calculation completed\n"
     ]
    }
   ],
   "source": [
    "try:\n",
    "  a,b=map(int,input(\"숫자 두개를 입력하세요: \").split())\n",
    "  c=a/b\n",
    "except:\n",
    "  print(\"입력한 숫자를 확인해주세요\")\n",
    "else:\n",
    "    print(f\"{a} / {b} = {c}\")\n",
    "finally:\n",
    "  print(\"calculation completed\")"
   ]
  },
  {
   "cell_type": "code",
   "execution_count": null,
   "id": "28d56a5e-640d-4e56-a040-3232c3986e75",
   "metadata": {},
   "outputs": [],
   "source": []
  }
 ],
 "metadata": {
  "kernelspec": {
   "display_name": "Python 3 (ipykernel)",
   "language": "python",
   "name": "python3"
  },
  "language_info": {
   "codemirror_mode": {
    "name": "ipython",
    "version": 3
   },
   "file_extension": ".py",
   "mimetype": "text/x-python",
   "name": "python",
   "nbconvert_exporter": "python",
   "pygments_lexer": "ipython3",
   "version": "3.11.7"
  }
 },
 "nbformat": 4,
 "nbformat_minor": 5
}
