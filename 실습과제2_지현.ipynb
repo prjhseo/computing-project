{
 "cells": [
  {
   "cell_type": "markdown",
   "id": "cd3c274b-3fe9-43d7-be52-fae7b20dd2eb",
   "metadata": {},
   "source": [
    "# 실습과제2\n",
    "1. slack에 올라와 있는 도전 과제 3개를 선택\n",
    "2. python code를 작성하고, markdownlanguage를 활용하여 코드 설명"
   ]
  },
  {
   "cell_type": "markdown",
   "id": "0eecbd2c-1e27-44e6-b393-075b964e88c6",
   "metadata": {},
   "source": [
    "##  Day 54 - 1,000,000 이하의 Circular prime의 개수를 찾기"
   ]
  },
  {
   "cell_type": "markdown",
   "id": "a908f48a-5ca8-4c95-97a9-0c23b7f0a15a",
   "metadata": {},
   "source": [
    "자연수 197은 circular prime(재배열 가능 소수,  또는 순열 소수)이라고 합니다.  \n",
    "197, 971, 719가 모두 소수이므로 여기에 해당합니다.  \n",
    "이런 소수는 100 밑으로 2, 3, 5, 7, 11, 13, 17, 31, 37, 71, 73, 79, 97 처럼 13개가 있습니다.  \n",
    "그러면 1,000,000 밑으로는 모두 몇 개나 있을까요?  "
   ]
  },
  {
   "cell_type": "markdown",
   "id": "37455acf",
   "metadata": {},
   "source": [
    "### 먼저, 숫자가 소수인지 여부를 판단하는 isprime 함수를 정의합니다"
   ]
  },
  {
   "cell_type": "markdown",
   "id": "3fa557d7",
   "metadata": {},
   "source": [
    "```python\n",
    "def isprime(number):\n",
    "```"
   ]
  },
  {
   "cell_type": "markdown",
   "id": "9a6bd672",
   "metadata": {},
   "source": [
    "1 이하의 숫자는 소수가 아니므로 False를 반환합니다"
   ]
  },
  {
   "cell_type": "markdown",
   "id": "054d8c9c",
   "metadata": {},
   "source": [
    "```python\n",
    "if number <= 1:\n",
    "        return False\n",
    "```"
   ]
  },
  {
   "cell_type": "markdown",
   "id": "5c294bc2",
   "metadata": {},
   "source": [
    "2와 3은 소수이므로 True를 반환합니다"
   ]
  },
  {
   "cell_type": "markdown",
   "id": "325af4dc",
   "metadata": {},
   "source": [
    "```python\n",
    "if number <= 3:\n",
    "        return True\n",
    "```"
   ]
  },
  {
   "cell_type": "markdown",
   "id": "61498572",
   "metadata": {},
   "source": [
    "2나 3으로 떨어지는 숫자는 소수가 아니므로 False를 반환합니다"
   ]
  },
  {
   "cell_type": "markdown",
   "id": "6f67958f",
   "metadata": {},
   "source": [
    "```python\n",
    "if number % 2 == 0 or number % 3 == 0:\n",
    "        return False\n",
    "```"
   ]
  },
  {
   "cell_type": "markdown",
   "id": "d38cd732",
   "metadata": {},
   "source": [
    "초기 변수를 5로 설정하고, i의 제곱이 주어진 숫자보다 작거나 같은 동안, \n",
    "```python\n",
    "  i = 5\n",
    "    while i * i <= number:\n",
    "```"
   ]
  },
  {
   "cell_type": "markdown",
   "id": "def173bc",
   "metadata": {},
   "source": [
    "number가 i나 i+2로 나누어 떨어지면 소수가 아니므로 False를 반환합니다\n",
    "```python\n",
    "if number % i == 0 or number % (i + 2) == 0:\n",
    "            return False\n",
    "```"
   ]
  },
  {
   "cell_type": "markdown",
   "id": "6fdc59ab",
   "metadata": {},
   "source": [
    "i를 6씩 증가시킵니다\n",
    "```python\n",
    "i += 6\n",
    "```"
   ]
  },
  {
   "cell_type": "markdown",
   "id": "e26c0c98",
   "metadata": {},
   "source": [
    "### 숫자의 모든 회전을 반환하는 get_rotations 함수를 정의합니다"
   ]
  },
  {
   "cell_type": "markdown",
   "id": "0f89c5be",
   "metadata": {},
   "source": [
    "```python\n",
    "def get_rotations(number)\n",
    "```"
   ]
  },
  {
   "cell_type": "markdown",
   "id": "c606d978",
   "metadata": {},
   "source": [
    "숫자를 문자열로 변환하여 s에 저장합니다\n",
    "```python\n",
    "s = str(number)\n",
    "```"
   ]
  },
  {
   "cell_type": "markdown",
   "id": "ef666569",
   "metadata": {},
   "source": [
    "circular prime의 개수를 저장할 변수인 answer을 0으로 초기화하고,\n",
    "```python\n",
    "answer=0\n",
    "```"
   ]
  },
  {
   "cell_type": "markdown",
   "id": "5b1c9ced",
   "metadata": {},
   "source": [
    "for문을 돌면서 i가 소수인지 판별합니다.   \n",
    "소수라면, 현재 숫자에 대한 회전을 rotations에 저장하고  \n",
    "모든 회전이 소수라면 answer을 1 증가시킵니다.  \n",
    "```python\n",
    "for i in range(2, 1000001):\n",
    "    if isprime(i):\n",
    "        rotations = get_rotations(i)\n",
    "        if all(isprime(rot) for rot in rotations):\n",
    "            answer += 1\n",
    "```"
   ]
  },
  {
   "cell_type": "code",
   "execution_count": null,
   "id": "ec8e0071",
   "metadata": {},
   "outputs": [],
   "source": []
  },
  {
   "cell_type": "code",
   "execution_count": 1,
   "id": "a36bcd25",
   "metadata": {},
   "outputs": [
    {
     "name": "stdout",
     "output_type": "stream",
     "text": [
      "55\n"
     ]
    }
   ],
   "source": [
    "def isprime(number):\n",
    "    if number <= 1:\n",
    "        return False\n",
    "    if number <= 3:\n",
    "        return True\n",
    "    if number % 2 == 0 or number % 3 == 0:\n",
    "        return False\n",
    "    i = 5\n",
    "    while i * i <= number:\n",
    "        if number % i == 0 or number % (i + 2) == 0:\n",
    "            return False\n",
    "        i += 6\n",
    "    return True\n",
    "\n",
    "def get_rotations(number):\n",
    "    s = str(number)\n",
    "    return [int(s[i:] + s[:i]) for i in range(len(s))]\n",
    "\n",
    "answer = 0\n",
    "\n",
    "for i in range(2, 1000001):\n",
    "    if isprime(i):\n",
    "        rotations = get_rotations(i)\n",
    "        if all(isprime(rot) for rot in rotations):\n",
    "            answer += 1\n",
    "\n",
    "print(answer)\n"
   ]
  },
  {
   "cell_type": "markdown",
   "id": "68e3653a-1cd0-46d4-8aec-805ef0346c61",
   "metadata": {},
   "source": [
    "## Day 53 - n의 소인수를 오름차순으로 담은 배열을 return 하도록 solution 함수 완성하기"
   ]
  },
  {
   "cell_type": "markdown",
   "id": "ba3572b1-d41e-4254-ba7b-bb0cc5cbe030",
   "metadata": {},
   "source": [
    "> **소인수란 주어진 자연수를 나누어 떨어뜨리는 약수 중에서 소수인 약수**를 말합니다.\n",
    "\n",
    "따라서, 소인수 분해를 하기 위해서는 약수가 *소수인지 판별하는 함수*가 필요합니다.  \n",
    "### 따라서 **소수 판별을 위한 isprime 함수**를 정의합니다.  "
   ]
  },
  {
   "cell_type": "markdown",
   "id": "f0959177-97b9-43cb-a8ea-a80c361981c4",
   "metadata": {},
   "source": [
    "```python\n",
    "def isprime(number):\n",
    "```"
   ]
  },
  {
   "cell_type": "markdown",
   "id": "b2f0cf23-24ae-463b-8a24-94bfb59e3647",
   "metadata": {},
   "source": [
    "그리고 ***prime_flag를 True로 초기화*** 해줍니다. "
   ]
  },
  {
   "cell_type": "markdown",
   "id": "4259f4b6-d863-4f5e-9469-ff6bdb3e5257",
   "metadata": {},
   "source": [
    "```python\n",
    "prime_flag=True\n",
    "```"
   ]
  },
  {
   "cell_type": "markdown",
   "id": "a51d07a6-504f-49e3-8656-a1e49c2adad1",
   "metadata": {},
   "source": [
    "for loop을 돌면서 number을 number보다 작은수인 i로 나누어줍니다.  "
   ]
  },
  {
   "cell_type": "markdown",
   "id": "f27aa412-4729-4eec-881a-a993e3294efd",
   "metadata": {},
   "source": [
    "```python\n",
    "for i in range(2,number):\n",
    "```"
   ]
  },
  {
   "cell_type": "markdown",
   "id": "0bfebcc7-52cf-49a7-8b60-556584af7697",
   "metadata": {},
   "source": [
    "이때 number가 i로 나누어떨어지면 **소수의 정의(1과 자기 자신만을 약수로 갖는 수)** 에 부합하지 않으므로  \n",
    "prime_flag를 False로 바꾸고 break를 통해 for문을 탈출합니다"
   ]
  },
  {
   "cell_type": "markdown",
   "id": "c73a6d7a-1fb6-4aad-a000-2216add50a98",
   "metadata": {},
   "source": [
    "```python\n",
    " if number % i ==0:\n",
    "            prime_flag=False\n",
    "            break\n",
    "```\n",
    "\n",
    "  "
   ]
  },
  {
   "cell_type": "markdown",
   "id": "6074f3b8-fcca-4a2d-8d4b-b7b20cae87a5",
   "metadata": {},
   "source": []
  },
  {
   "cell_type": "markdown",
   "id": "17b46794-1976-42bb-90d3-1049622224e8",
   "metadata": {},
   "source": [
    "### 그리고 **소인수 분해를 위한 solution 함수**를 정의합니다"
   ]
  },
  {
   "cell_type": "markdown",
   "id": "07b79a43-bb6c-41fe-b7e3-ee780cf2b48f",
   "metadata": {},
   "source": [
    "```python\n",
    "def solution(n):\n",
    "```"
   ]
  },
  {
   "cell_type": "markdown",
   "id": "bded5f3a-5545-4289-97b5-3339ec062da3",
   "metadata": {},
   "source": [
    "n의 소인수를 저장하기 위한 sol 배열을 만듭니다"
   ]
  },
  {
   "cell_type": "markdown",
   "id": "80ba16fe-c999-4a25-ad23-14df802c032a",
   "metadata": {},
   "source": [
    "```python\n",
    " sol=[]\n",
    " ````"
   ]
  },
  {
   "cell_type": "markdown",
   "id": "60d3d542-7e02-478f-a478-60cf9e9bdca8",
   "metadata": {},
   "source": [
    "for loop을 돌며 n이하의 수 i에 대하여 소인수의 정의에 부합하는지 확인해야 합니다.    "
   ]
  },
  {
   "cell_type": "markdown",
   "id": "f93543fd-3c25-471f-be03-821743b58717",
   "metadata": {},
   "source": [
    "```python\n",
    "for i in range(2,n+1):\n",
    "```"
   ]
  },
  {
   "cell_type": "markdown",
   "id": "f1356f32-2547-420a-a708-244353f79d4a",
   "metadata": {},
   "source": [
    "앞서, 소인수의 정의는 소수의 약수였습니다.  \n",
    "따라서, `n%i==0`을 통해 i가 n의 약수인지 확인하고, `isprime(i)==True`를 통해 소수인지 확인합니다.  "
   ]
  },
  {
   "cell_type": "markdown",
   "id": "ee46f3f0-8c2d-4348-9bfc-608f6a9ca0b4",
   "metadata": {},
   "source": [
    "```python\n",
    "if n % i ==0 and isprime(i)==True:\n",
    "```"
   ]
  },
  {
   "cell_type": "markdown",
   "id": "b948b743-4545-4ada-8e75-5c428f4a490e",
   "metadata": {},
   "source": [
    "만약 소인수가 맞다면, sol이라는 리스트에 i를 추가합니다"
   ]
  },
  {
   "cell_type": "markdown",
   "id": "ba16e474-933e-4271-8274-da214026d38d",
   "metadata": {},
   "source": [
    "```python\n",
    " sol.append(i)\n",
    "```"
   ]
  },
  {
   "cell_type": "code",
   "execution_count": 2,
   "id": "371305f0-76dc-4ab5-8a0c-c7b25610930e",
   "metadata": {},
   "outputs": [
    {
     "name": "stdout",
     "output_type": "stream",
     "text": [
      "enter the number: 14\n",
      "[2, 7]\n"
     ]
    }
   ],
   "source": [
    "def isprime(number):\n",
    "    prime_flag=True\n",
    "    for i in range(2,number):\n",
    "        if number % i ==0:\n",
    "            prime_flag=False\n",
    "            break\n",
    "    return prime_flag\n",
    "    \n",
    "def solution(n):\n",
    "    sol=[]\n",
    "    for i in range(2,n+1):\n",
    "        if n % i ==0 and isprime(i)==True:\n",
    "            sol.append(i)\n",
    "    return sol\n",
    "\n",
    "n=int(input(\"enter the number: \"))\n",
    "print(solution(n))"
   ]
  },
  {
   "cell_type": "code",
   "execution_count": null,
   "id": "3a479c82-5d3b-4238-92ce-f29b7f322116",
   "metadata": {},
   "outputs": [],
   "source": []
  },
  {
   "cell_type": "code",
   "execution_count": null,
   "id": "c0ce20c2-eead-4f57-95a0-7efdb2950928",
   "metadata": {},
   "outputs": [],
   "source": []
  },
  {
   "cell_type": "markdown",
   "id": "3c5df5b4-6959-4df5-95fd-fb72a5428d81",
   "metadata": {},
   "source": [
    "## Day 52 - person class 구현하기\n",
    "### person class는 다음과 같은 인스턴스 변수와 메소드를 가진다.  \n",
    "person이라는 인스턴스를 생성한 후 개별 메소드를 테스트 해보자\n",
    "1. 인스턴스 변수\n",
    "   - name : 이름\n",
    "   - mobile : 핸드폰 번호 (기본값 가짐)\n",
    "   - office : 직장 전화번호 (기본값 가짐)\n",
    "   - email: 이메일 주소(기본 값 가짐)\n",
    "2. 메소드\n",
    "   - __init__(): name,mobile,office,email 값을 매개변수로 받아 인스턴스 변수를 초기화\n",
    "   - __str__() : person의 정보를 문자열로 반환\n",
    "   - setName(), getName(),.. : 각 속성에 대한 setter와 getter"
   ]
  },
  {
   "cell_type": "markdown",
   "id": "97949747",
   "metadata": {},
   "source": [
    "### Person이라는 class를 정의합니다.\n",
    "```python\n",
    "class Person:\n",
    "```"
   ]
  },
  {
   "cell_type": "markdown",
   "id": "26c9be88",
   "metadata": {},
   "source": [
    "__init__ 메소드는 name,mobile,office,email 네개의 매개변수를 받아 초기화 시킵니다. 이 메소드는 클래스의 생성자로, 인스턴스가 생성될 때 호출됩니다\n",
    "```python\n",
    "    def __init__(self, name, mobile, office, email):\n",
    "```"
   ]
  },
  {
   "cell_type": "markdown",
   "id": "f0a67f8a",
   "metadata": {},
   "source": [
    "인스턴스 변수 name,mobile,office,email을 각각 매개변수 name,mobile,office,email로 초기화해줍니다.\n",
    "```python\n",
    "        self.name = name\n",
    "        self.mobile = mobile\n",
    "        self.office = office\n",
    "        self.email = email\n",
    "```"
   ]
  },
  {
   "cell_type": "markdown",
   "id": "6a43da1e",
   "metadata": {},
   "source": [
    "__str__ 메소드는 객체의 문자열 표현을 정의하는 것으로, print로 객체를 출력할 때 호출됩니다.   \n",
    "탭으로 구분하여 name,mobile,office,email의 값을 출력합니다.  \n",
    "```python\n",
    "    def __str__(self):\n",
    "        return \"{}\\t {}\\t {}\\t {}\".format(self.name, self.mobile, self.office, self.email)\n",
    "```"
   ]
  },
  {
   "cell_type": "markdown",
   "id": "55a1ae17",
   "metadata": {},
   "source": [
    "아래는 name,mobile,office,email 인스턴스 변수를 설정하는 **setter** 메소드를 각각 만듭니다.  \n",
    "인스턴스 변수 name,mobile,office,emai을 매개변수 name,mobile,office,emai으로 설정합니다.    \n",
    "  \n",
    "또한,  name,mobile,office,email 인스턴스 변수를 반환하는 **getter** 메소드를 각각 정의합니다. \n",
    "이는 name,mobile,office,email 인스턴스 변수를 반환합니다. \n",
    "```python\n",
    "     def setName(self,name):\n",
    "        self.name=name\n",
    "        \n",
    "    def getName(self):\n",
    "        return self.name\n",
    "    \n",
    "    def setMobile(self,mobile):\n",
    "        self.mobile=mobile\n",
    "        \n",
    "    def getMobile(self):\n",
    "        return self.mobile\n",
    "    \n",
    "    def setOffice(self,office):\n",
    "        self.office=office\n",
    "        \n",
    "    def getOffice(self):\n",
    "        return self.office\n",
    "    \n",
    "    def setEmail(self,email):\n",
    "        self.email=email\n",
    "        \n",
    "    def getEmail(self):\n",
    "        return self.email\n",
    "```\n"
   ]
  },
  {
   "cell_type": "code",
   "execution_count": null,
   "id": "fb12dac3-200a-40f5-bb21-7172345b8ca6",
   "metadata": {},
   "outputs": [],
   "source": [
    "class Person:\n",
    "    def __init__(self,name,mobile,office,email):\n",
    "        self.name=name\n",
    "        self.mobile=mobile\n",
    "        self.office=office\n",
    "        self.email=email\n",
    "        \n",
    "    def __str__(self):\n",
    "        return \"{}\\t {}\\t {}\\t {}\".format(self.__name,self.__mobile,self.__office,self.__email)\n",
    "   \n",
    "    def setName(self,name):\n",
    "        self.name=name\n",
    "        \n",
    "    def getName(self):\n",
    "        return self.name\n",
    "    \n",
    "    def setMobile(self,mobile):\n",
    "        self.mobile=mobile\n",
    "        \n",
    "    def getMobile(self):\n",
    "        return self.mobile\n",
    "    \n",
    "    def setOffice(self,office):\n",
    "        self.office=office\n",
    "        \n",
    "    def getOffice(self):\n",
    "        return self.office\n",
    "    \n",
    "    def setEmail(self,email):\n",
    "        self.email=email\n",
    "        \n",
    "    def getEmail(self):\n",
    "        return self.email\n",
    "\n",
    "person=Person(\"jihyeon\",\"010-0000-0000\",\"knu\",\"1234@knu.ac.kr\")\n",
    "print(person)"
   ]
  },
  {
   "cell_type": "code",
   "execution_count": null,
   "id": "2461e0bb",
   "metadata": {},
   "outputs": [],
   "source": []
  }
 ],
 "metadata": {
  "kernelspec": {
   "display_name": "Python 3 (ipykernel)",
   "language": "python",
   "name": "python3"
  },
  "language_info": {
   "codemirror_mode": {
    "name": "ipython",
    "version": 3
   },
   "file_extension": ".py",
   "mimetype": "text/x-python",
   "name": "python",
   "nbconvert_exporter": "python",
   "pygments_lexer": "ipython3",
   "version": "3.9.12"
  }
 },
 "nbformat": 4,
 "nbformat_minor": 5
}
