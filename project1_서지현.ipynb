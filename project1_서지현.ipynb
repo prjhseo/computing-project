{
 "cells": [
  {
   "cell_type": "code",
   "execution_count": 40,
   "id": "63c43586-288c-431e-91bc-42260f0d6954",
   "metadata": {},
   "outputs": [],
   "source": [
    "from itertools import combinations"
   ]
  },
  {
   "cell_type": "markdown",
   "id": "543a4ee6-2d55-4a20-8a33-feb6e2d2a483",
   "metadata": {},
   "source": [
    "combinations 메소드를 사용하기 위한 itertools 내장 모듈을 import"
   ]
  },
  {
   "cell_type": "code",
   "execution_count": 42,
   "id": "1b4710b4-3657-46ca-81e4-dbda0c57de25",
   "metadata": {},
   "outputs": [],
   "source": [
    "def solution(nums):\n",
    "    answer = 0\n",
    "    combination_2 = list(combinations(nums, 3))\n",
    "\n",
    "    sums = []\n",
    "    for combo in combination_2:\n",
    "        sum_ = sum(combo)\n",
    "        sums.append(sum_)\n",
    "\n",
    "    for sum_ in sums:\n",
    "        flag = True\n",
    "        for i in range(2, sum_):\n",
    "            if sum_ % i == 0:\n",
    "                flag = False\n",
    "                break\n",
    "        if flag:\n",
    "            answer += 1\n",
    "\n",
    "    return answer\n",
    "\n"
   ]
  },
  {
   "cell_type": "code",
   "execution_count": 41,
   "id": "411e984d-09f4-404e-9dc1-1a4e4567ddcb",
   "metadata": {},
   "outputs": [
    {
     "name": "stdin",
     "output_type": "stream",
     "text": [
      "Enter the numbers:  [1,2,3,4]\n"
     ]
    },
    {
     "name": "stdout",
     "output_type": "stream",
     "text": [
      "결과: 1\n"
     ]
    }
   ],
   "source": [
    "# 입력받고 전처리\n",
    "try:\n",
    "    input_str = input(\"Enter the numbers: \").strip()\n",
    "    if input_str.startswith('[') and input_str.endswith(']'):\n",
    "        input_str = input_str[1:-1]\n",
    "    nums = [int(num) for num in input_str.split(',') if num.strip().isdigit()]\n",
    "    \n",
    "    # 입력이 제대로 처리되었는지 확인\n",
    "    if nums:\n",
    "        print(\"결과:\", solution(nums))\n",
    "    else:\n",
    "        print(\"유효한 숫자를 입력하세요.\")\n",
    "except EOFError:\n",
    "    print(\"입력을 읽는 중에 오류가 발생했습니다. 다시 시도하세요.\")\n",
    "except ValueError:\n",
    "    print(\"입력 형식이 잘못되었습니다. 숫자로 이루어진 리스트를 입력하세요.\")"
   ]
  },
  {
   "cell_type": "markdown",
   "id": "d702fc8a-9caf-4b63-937e-8b8c832d21b8",
   "metadata": {},
   "source": [
    "```answer = 0```  \n",
    ": nums의 숫자 중 서로 다른 3개를 골라 소수가 되는 경우의 개수를 나타내는 변수\n",
    "    "
   ]
  },
  {
   "cell_type": "markdown",
   "id": "2fb42f99-54ee-45cb-a436-787cc45aa972",
   "metadata": {},
   "source": [
    "```combination_2 = list(combinations(nums, 3))```   \n",
    ": 배열 nums 중 3개를 조합한 결과를 combinations이라는 모듈을 사용하여 list로 만듦"
   ]
  },
  {
   "cell_type": "markdown",
   "id": "0a1b207f-4d7c-4e73-a53c-cda39a5361d2",
   "metadata": {},
   "source": [
    "```sums=[]```  \n",
    ": combination_2에 대응되는 배열로, 각 조합별로 합을 저장한 list\n"
   ]
  },
  {
   "cell_type": "markdown",
   "id": "47d0db69-25e9-4f7b-aa39-f955fed5dfd2",
   "metadata": {},
   "source": [
    "```python\n",
    "for combo in combination_2:\n",
    "        sum_ = sum(combo)\n",
    "        sums.append(sum_)\n",
    "```\n",
    ": 각 조합 별로 sum을 적용하여 sums라는 배열에 추가!"
   ]
  },
  {
   "cell_type": "markdown",
   "id": "1dcf482b-3f42-4ec4-b77e-672cff88fdfb",
   "metadata": {},
   "source": [
    "```python\n",
    "   for sum_ in sums:\n",
    "        flag = True\n",
    "        for i in range(2, sum_):\n",
    "            if sum_ % i == 0:\n",
    "                flag = False\n",
    "                break\n",
    "        if flag:\n",
    "            answer += 1\n",
    "```\n",
    ": sums 리스트에 있는 요소인 sum_을 flag를 통해 소수 판별하고 소수가 맞으면 answer을 1 증가시킨다"
   ]
  },
  {
   "cell_type": "markdown",
   "id": "9c453d74-1988-4182-beb6-78a7204749b6",
   "metadata": {},
   "source": [
    "```python\n",
    "input_str = input(\"Enter the numbers: \").strip()\n",
    "    if input_str.startswith('[') and input_str.endswith(']'):\n",
    "        input_str = input_str[1:-1]\n",
    "```\n",
    ":input_str의 '['와 ']'을 제거"
   ]
  },
  {
   "cell_type": "markdown",
   "id": "d5442bef-6619-4056-a026-f07c72610733",
   "metadata": {},
   "source": [
    "```python\n",
    "nums = [int(num) for num in input_str.split(',') if num.strip().isdigit()]\n",
    "```\n",
    ": ','을 기준으로 분리하고 int로 형변환"
   ]
  },
  {
   "cell_type": "markdown",
   "id": "08ea74e2-a60b-4c88-a5b8-808ba5eca519",
   "metadata": {},
   "source": [
    "```python\n",
    "except EOFError:\n",
    "    print(\"입력을 읽는 중에 오류가 발생했습니다. 다시 시도하세요.\")\n",
    "except ValueError:\n",
    "    print(\"입력 형식이 잘못되었습니다. 숫자로 이루어진 리스트를 입력하세요.\")\n",
    "```  \n",
    "EOFError을 방지하기 위한 구문"
   ]
  },
  {
   "cell_type": "code",
   "execution_count": null,
   "id": "3f9e8046-5c51-4008-91e3-d46e23766f6b",
   "metadata": {},
   "outputs": [],
   "source": []
  }
 ],
 "metadata": {
  "kernelspec": {
   "display_name": "Python 3 (ipykernel)",
   "language": "python",
   "name": "python3"
  },
  "language_info": {
   "codemirror_mode": {
    "name": "ipython",
    "version": 3
   },
   "file_extension": ".py",
   "mimetype": "text/x-python",
   "name": "python",
   "nbconvert_exporter": "python",
   "pygments_lexer": "ipython3",
   "version": "3.11.7"
  }
 },
 "nbformat": 4,
 "nbformat_minor": 5
}
